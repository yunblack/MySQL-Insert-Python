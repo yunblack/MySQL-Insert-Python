{
 "cells": [
  {
   "cell_type": "code",
   "execution_count": 2,
   "metadata": {},
   "outputs": [
    {
     "name": "stdout",
     "output_type": "stream",
     "text": [
      "Duplicated Value --  (13.4, 37.1, '2020-01-04')\n",
      "Duplicated Value --  (13.4, 37.1, '2020-01-04')\n",
      "Duplicated Value --  (13.4, 37.1, '2020-01-04')\n",
      "\n",
      "(12.4, 23.5, '2020-01-01')\n",
      "(16.4, 22.5, '2020-01-02')\n",
      "(10.2, 30.5, '2020-01-03')\n",
      "(13.4, 37.1, '2020-01-04')\n",
      "(13.5, 35.1, '2020-01-05')\n",
      "(13.6, 32.1, '2020-01-06')\n",
      "(13.7, 31.1, '2020-01-07')\n",
      "(13.5, 35.1, '2020-01-08')\n",
      "(13.9, 30.1, '2020-01-09')\n",
      "(13.9, 30.1, '2020-01-10')\n",
      "(13.7, 31.1, '2020-01-11')\n",
      "(13.7, 31.1, '2020-01-12')\n",
      "(13.6, 32.1, '2020-01-13')\n",
      "(13.7, 31.1, '2020-01-15')\n"
     ]
    }
   ],
   "source": [
    "import pymysql\n",
    " \n",
    "conn = pymysql.connect(host='192.168.100.24', user='ADMIN', password='dnwjd1227', db='daniel', port=3306, charset='utf8')\n",
    "\n",
    "arr=(\n",
    "    (13.4,37.1,'2020-01-04'),\n",
    "    (13.4,37.1,'2020-01-04'),\n",
    "    (13.4,37.1,'2020-01-04'),\n",
    ")\n",
    "\n",
    "curs = conn.cursor()\n",
    "sql = \"select * from INDOOR\"\n",
    "curs.execute(sql)\n",
    " \n",
    "rows = curs.fetchall()\n",
    "\n",
    "count=0\n",
    "\n",
    "try:\n",
    "    for k in range (0, arr.__len__()):\n",
    "        count=0\n",
    "        for i in range (0, rows.__len__()):\n",
    "            if arr[k][2]!=rows[i][2]:\n",
    "                count=count+1\n",
    "            else:\n",
    "                print(\"Duplicated Value -- \", arr[k])\n",
    "                count=0\n",
    "        \n",
    "        if count==rows.__len__():\n",
    "            with conn.cursor() as cursor:\n",
    "                sql = 'INSERT INTO INDOOR (TEMP, HUMID, ID) VALUES (%s, %s, %s)'\n",
    "                cursor.execute(sql, arr[k])\n",
    "            conn.commit()\n",
    "        \n",
    "finally:\n",
    "    print()\n",
    "    \n",
    "    for i in range (rows.__len__()):\n",
    "        print(rows[i])\n",
    "    conn.close()"
   ]
  },
  {
   "cell_type": "code",
   "execution_count": null,
   "metadata": {},
   "outputs": [],
   "source": []
  },
  {
   "cell_type": "code",
   "execution_count": null,
   "metadata": {},
   "outputs": [],
   "source": []
  },
  {
   "cell_type": "code",
   "execution_count": null,
   "metadata": {},
   "outputs": [],
   "source": []
  }
 ],
 "metadata": {
  "kernelspec": {
   "display_name": "Python 3",
   "language": "python",
   "name": "python3"
  },
  "language_info": {
   "codemirror_mode": {
    "name": "ipython",
    "version": 3
   },
   "file_extension": ".py",
   "mimetype": "text/x-python",
   "name": "python",
   "nbconvert_exporter": "python",
   "pygments_lexer": "ipython3",
   "version": "3.7.4"
  }
 },
 "nbformat": 4,
 "nbformat_minor": 2
}
